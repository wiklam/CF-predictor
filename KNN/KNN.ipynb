{
 "cells": [
  {
   "cell_type": "code",
   "execution_count": 101,
   "metadata": {},
   "outputs": [],
   "source": [
    "from database import *\n",
    "import pandas as pd\n",
    "import numpy as np"
   ]
  },
  {
   "cell_type": "code",
   "execution_count": 184,
   "metadata": {},
   "outputs": [],
   "source": [
    "def get_database():\n",
    "    db = LoadDataBase()\n",
    "    for contest in db.contests.values():\n",
    "        contest.startTime %= 24 * 60 * 60\n",
    "    return db, db.users, db.contests, db.contestHistory\n",
    "\n",
    "def get_good_user():\n",
    "    min_contests = 100\n",
    "    return np.random.choice([user for user in contestHistory if len(contestHistory[user]) >= min_contests])\n",
    "\n",
    "def print_entry(e):\n",
    "    contest = contests[e.contestId]\n",
    "    print(e, e.delta())\n",
    "    print(contest)"
   ]
  },
  {
   "cell_type": "code",
   "execution_count": 143,
   "metadata": {},
   "outputs": [],
   "source": [
    "db, users, contests, contestHistory = get_database()"
   ]
  },
  {
   "cell_type": "code",
   "execution_count": 162,
   "metadata": {},
   "outputs": [
    {
     "data": {
      "text/plain": [
       "('andreumat', 164)"
      ]
     },
     "execution_count": 162,
     "metadata": {},
     "output_type": "execute_result"
    }
   ],
   "source": [
    "user = get_good_user()\n",
    "history = contestHistory[user]\n",
    "user, len(history)"
   ]
  },
  {
   "cell_type": "code",
   "execution_count": 177,
   "metadata": {},
   "outputs": [],
   "source": [
    "durationC = 1\n",
    "startTimeC = 1\n",
    "\n",
    "def dist(e1, e2):\n",
    "    c1 = contests[e1.contestId]\n",
    "    c2 = contests[e2.contestId]\n",
    "    \n",
    "    durationDiff = abs(c1.duration - c2.duration)\n",
    "    durationDiffNorm = durationDiff / (60 * 60)\n",
    "    durationDist = durationDiffNorm\n",
    "    \n",
    "    startTimeDiff = abs(c1.startTime - c2.startTime)\n",
    "    startTimeDiffNorm = startTimeDiff / (24 * 60 * 60)\n",
    "    startTimeDist = startTimeDiffNorm\n",
    "    \n",
    "    print('durationDist', durationDist)\n",
    "    print('startTimeDist', startTimeDist)\n",
    "    \n",
    "    return durationC * durationDist + \\\n",
    "           startTimeC * startTimeDist"
   ]
  },
  {
   "cell_type": "code",
   "execution_count": 193,
   "metadata": {},
   "outputs": [
    {
     "name": "stdout",
     "output_type": "stream",
     "text": [
      "Reiva5 144\n",
      "contestId: 1450, rank: 1672, oldRating: 2036, newRating: 1975 -61\n",
      "duration: 3h 00m, startTime: 52500s, authors: {'1-gon', 'Devil', 'fivefourthreeone'}\n",
      "\n",
      "contestId: 1405, rank: 453, oldRating: 1765, newRating: 1816 51\n",
      "duration: 2h 00m, startTime: 52500s, authors: {'hugopm', '1-gon', 'Ari', 'antontrygubO_o', 'Kuroni', 'Maripium'}\n",
      "contestId: 1447, rank: 555, oldRating: 1792, newRating: 1792 0\n",
      "duration: 2h 30m, startTime: 52500s, authors: {'Devil', 'Mohamed.Sobhy', '_h_', 'kobor', 'kpw29', 'pasawicki', 'pawelek1', 'staniewzki', 'lcaonmst', 'tnowak', 'jjaworska', 'hiphop-nigdy-stop'}\n"
     ]
    }
   ],
   "source": [
    "user = get_good_user()\n",
    "history = contestHistory[user]\n",
    "print(user, len(history))\n",
    "\n",
    "last_entry = history[-1]\n",
    "print_entry(last_entry)\n",
    "print()\n",
    "\n",
    "c = contests[last_entry.contestId]\n",
    "for entry in history[:-1]:\n",
    "    ce = contests[entry.contestId]\n",
    "    if set.intersection(c.authors, ce.authors):\n",
    "        print_entry(entry)"
   ]
  }
 ],
 "metadata": {
  "kernelspec": {
   "display_name": "Python 3",
   "language": "python",
   "name": "python3"
  },
  "language_info": {
   "codemirror_mode": {
    "name": "ipython",
    "version": 3
   },
   "file_extension": ".py",
   "mimetype": "text/x-python",
   "name": "python",
   "nbconvert_exporter": "python",
   "pygments_lexer": "ipython3",
   "version": "3.9.0"
  },
  "toc": {
   "base_numbering": 1,
   "nav_menu": {},
   "number_sections": false,
   "sideBar": true,
   "skip_h1_title": false,
   "title_cell": "Table of Contents",
   "title_sidebar": "Contents",
   "toc_cell": false,
   "toc_position": {},
   "toc_section_display": true,
   "toc_window_display": false
  }
 },
 "nbformat": 4,
 "nbformat_minor": 4
}
