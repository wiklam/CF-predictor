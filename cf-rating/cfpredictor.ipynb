{
 "cells": [
  {
   "cell_type": "code",
   "execution_count": 2,
   "metadata": {},
   "outputs": [],
   "source": [
    "from database import Database, LoadDatabase\n",
    "import numpy as np"
   ]
  },
  {
   "cell_type": "code",
   "execution_count": 3,
   "metadata": {},
   "outputs": [],
   "source": [
    "DB = LoadDatabase()"
   ]
  },
  {
   "cell_type": "code",
   "execution_count": 62,
   "metadata": {},
   "outputs": [],
   "source": [
    "class CFRatingPredictor:\n",
    "    def __init__(self, db):\n",
    "        self.standings = db.standings\n",
    "        self.contests = list(db.contests.index)\n",
    "        self.contests.reverse()\n",
    "    \n",
    "    def intDiv(self, x,y):\n",
    "        return - ((-x) // y) if x < 0 else x // y\n",
    "    \n",
    "    def Pij(self, ri, rj):\n",
    "        return 1.0 / (1.0 + np.power(10.0, (rj-ri)/400.0))\n",
    "    \n",
    "    def getSeed(self, rating, contestant, contestStandings):\n",
    "        prob = lambda r : self.Pij(r, rating)\n",
    "        vecProb = np.vectorize(prob)\n",
    "        oldRatings = contestStandings['oldRating'].to_numpy()\n",
    "        seed = np.sum(vecProb(oldRatings)) - self.Pij(contestant['oldRating'],rating) + 1\n",
    "        return seed\n",
    "    \n",
    "    def getInitialRatingChange(self, contestant, contestStandings):\n",
    "        rank = contestant['rank']\n",
    "        oldRating = contestant['oldRating']\n",
    "        seed = self.getSeed(oldRating, contestant, contestStandings)\n",
    "        midRank = np.sqrt(rank*seed)\n",
    "        R = self.binarySearch(midRank, lambda r: self.getSeed(r, contestant, contestStandings))\n",
    "        delta = self.intDiv(R-oldRating,2)\n",
    "        return delta\n",
    "    \n",
    "    def binarySearch(self, value, f, left=1, right=8000):\n",
    "        while right - left > 1:\n",
    "            mid = self.intDiv(left+right,2)\n",
    "            print(left, right)\n",
    "            print(mid, f(mid), value)\n",
    "            if f(mid) < value:\n",
    "                right = mid\n",
    "            else:\n",
    "                left = mid\n",
    "        return left\n",
    "     \n",
    "    def fightAgainstInflation(self, contestStandings, deltas):\n",
    "        contestantsSorted = contestStandings.sort_values(by=['oldRating'], ascending=False)\n",
    "        pplCount = len(contestStandings)\n",
    "        topPplCount = (min(pplCount, 4*(np.rint(np.sqrt(pplCount))))).astype(int)\n",
    "        topContestans = contestantsSorted.head(topPplCount)\n",
    "        sum = np.sum([deltas[i] for i in topContestans.index])\n",
    "        inc = min(0, max(-10, -(self.intDiv(sum, topPplCount))))\n",
    "        print(inc)\n",
    "        return deltas + inc\n",
    "    \n",
    "    def fixToSumZero(self, contestStandings, deltas):\n",
    "        sum = np.sum(deltas)\n",
    "        inc = -self.intDiv(sum, len(contestStandings)) - 1\n",
    "        return deltas + inc\n",
    "    \n",
    "    def processContest(self, contestStandings):\n",
    "        deltas = contestStandings.apply(lambda c: self.getInitialRatingChange(c, contestStandings), axis=1)   \n",
    "        deltas = self.fixToSumZero(contestStandings, deltas)\n",
    "        deltas = self.fightAgainstInflation(contestStandings, deltas)\n",
    "        return deltas\n",
    "    \n",
    "    def calcErrorContest(self, contestStandings, errCalc):\n",
    "        expectedRanks = contestStandings.apply(lambda c: self.getSeed(c['oldRating'] ,c, contestStandings), axis=1).to_numpy()\n",
    "        actualRanks = contestStandings['oldRating'].to_numpy()\n",
    "        vecErrCalc = np.vectorize(errCalc)\n",
    "        return np.sum(vecErrCalc(expectedRanks, actualRanks)) / len(contestStandings)\n",
    "    \n",
    "    def genErrRateDic(self, errCalc):\n",
    "        errRateDic = {}\n",
    "        for key, contestStandings in self.standings.items():\n",
    "            print(\"Contest \", key, \" started\")\n",
    "            print(\"There are \", len(contestStandings), \" participants in this contest\")\n",
    "            errRateDic[key] = self.calcErrorContest(contestStandings, errCalc)\n",
    "            print(\"Contest \", key, \" is done!\")\n",
    "        return errRateDic\n",
    "\n",
    "def GenCFRatingErrorRates(DB, errCalc):\n",
    "    rp = CFRatingPredictor(DB)\n",
    "    return rp.genErrRateDic(errCalc)\n",
    "\n",
    "def AnadiErrorRate(a, b):\n",
    "    return abs(a-b)"
   ]
  },
  {
   "cell_type": "code",
   "execution_count": 63,
   "metadata": {},
   "outputs": [],
   "source": [
    "rp = CFRatingPredictor(DB)"
   ]
  },
  {
   "cell_type": "code",
   "execution_count": null,
   "metadata": {},
   "outputs": [
    {
     "name": "stdout",
     "output_type": "stream",
     "text": [
      "Contest  1467  started\n",
      "There are  14159  participants in this contest\n"
     ]
    }
   ],
   "source": [
    "rp.genErrRateDic(AnadiErrorRate)"
   ]
  },
  {
   "cell_type": "code",
   "execution_count": null,
   "metadata": {},
   "outputs": [],
   "source": []
  }
 ],
 "metadata": {
  "kernelspec": {
   "display_name": "Python 3",
   "language": "python",
   "name": "python3"
  },
  "language_info": {
   "codemirror_mode": {
    "name": "ipython",
    "version": 3
   },
   "file_extension": ".py",
   "mimetype": "text/x-python",
   "name": "python",
   "nbconvert_exporter": "python",
   "pygments_lexer": "ipython3",
   "version": "3.8.3"
  }
 },
 "nbformat": 4,
 "nbformat_minor": 4
}
